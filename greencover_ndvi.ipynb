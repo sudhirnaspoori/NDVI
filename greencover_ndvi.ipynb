{
 "cells": [
  {
   "cell_type": "code",
   "execution_count": 24,
   "id": "7098ff52",
   "metadata": {},
   "outputs": [],
   "source": [
    "import geopandas as gpd\n",
    "import rasterio\n",
    "from rasterio.mask import mask\n",
    "import numpy as np\n"
   ]
  },
  {
   "cell_type": "code",
   "execution_count": 25,
   "id": "94f0acce",
   "metadata": {},
   "outputs": [],
   "source": [
    "red_band_path = \"D:\\GIS\\S2B_MSIL1C_20221129T051149_N0400_R019_T43QHV_20221129T060354.SAFE\\GRANULE\\L1C_T43QHV_A029932_20221129T051146\\IMG_DATA\\T43QHV_20221129T051149_B04.jp2\"\n",
    "nir_band_path = \"D:\\GIS\\S2B_MSIL1C_20221129T051149_N0400_R019_T43QHV_20221129T060354.SAFE\\GRANULE\\L1C_T43QHV_A029932_20221129T051146\\IMG_DATA\\T43QHV_20221129T051149_B08.jp2\"\n"
   ]
  },
  {
   "cell_type": "code",
   "execution_count": 26,
   "id": "92027397",
   "metadata": {},
   "outputs": [],
   "source": [
    "shapefile_path = r\"D:\\GIS\\shapefiles\\farm.shp\""
   ]
  },
  {
   "cell_type": "code",
   "execution_count": 27,
   "id": "954024cd",
   "metadata": {},
   "outputs": [
    {
     "name": "stdout",
     "output_type": "stream",
     "text": [
      "D:\\GIS\\shapefiles\\farm.shp\n"
     ]
    }
   ],
   "source": [
    "print(shapefile_path)"
   ]
  },
  {
   "cell_type": "code",
   "execution_count": 28,
   "id": "5d5243be",
   "metadata": {},
   "outputs": [],
   "source": [
    "shapefile = gpd.read_file(shapefile_path)"
   ]
  },
  {
   "cell_type": "code",
   "execution_count": 29,
   "id": "f2d166fc",
   "metadata": {},
   "outputs": [
    {
     "name": "stdout",
     "output_type": "stream",
     "text": [
      "EPSG:32643\n"
     ]
    }
   ],
   "source": [
    "crs = shapefile.crs\n",
    "print(crs)\n"
   ]
  },
  {
   "cell_type": "code",
   "execution_count": 30,
   "id": "22ad7a20",
   "metadata": {},
   "outputs": [
    {
     "name": "stdout",
     "output_type": "stream",
     "text": [
      "   id  poly1                                           geometry\n",
      "0   1  farm1  POLYGON ((862574.339 1929622.610, 862635.670 1...\n",
      "1   2  farm2  POLYGON ((862556.263 1925388.662, 862558.800 1...\n",
      "2   3  farm3  POLYGON ((862099.228 1926142.966, 862085.528 1...\n",
      "3   4  farm4  POLYGON ((863983.435 1926722.283, 863964.154 1...\n",
      "4   5  farm5  POLYGON ((861509.446 1923907.198, 861509.509 1...\n"
     ]
    }
   ],
   "source": [
    "print(shapefile.head())"
   ]
  },
  {
   "cell_type": "code",
   "execution_count": 31,
   "id": "e115709f",
   "metadata": {},
   "outputs": [],
   "source": [
    "with rasterio.open(red_band_path) as red_src:\n",
    "    red_clipped, red_transform = mask(red_src, shapefile.geometry, crop=True)\n",
    "    red = red_clipped[0].astype('float32')"
   ]
  },
  {
   "cell_type": "code",
   "execution_count": 32,
   "id": "b0c98c67",
   "metadata": {},
   "outputs": [
    {
     "name": "stdout",
     "output_type": "stream",
     "text": [
      "EPSG:32643\n"
     ]
    }
   ],
   "source": [
    "a = rasterio.open(red_band_path)\n",
    "crs =a.crs\n",
    "print(crs)"
   ]
  },
  {
   "cell_type": "code",
   "execution_count": 33,
   "id": "7d51f13a",
   "metadata": {},
   "outputs": [],
   "source": [
    "with rasterio.open(nir_band_path) as nir_src:\n",
    "    nir_clipped, nir_transform = mask(nir_src, shapefile.geometry, crop=True)\n",
    "    nir = nir_clipped[0].astype('float32')"
   ]
  },
  {
   "cell_type": "code",
   "execution_count": 34,
   "id": "ef97b4e9",
   "metadata": {},
   "outputs": [
    {
     "name": "stdout",
     "output_type": "stream",
     "text": [
      "<open DatasetReader name='D:/GIS/S2B_MSIL1C_20221129T051149_N0400_R019_T43QHV_20221129T060354.SAFE/GRANULE/L1C_T43QHV_A029932_20221129T051146/IMG_DATA/T43QHV_20221129T051149_B08.jp2' mode='r'>\n"
     ]
    },
    {
     "data": {
      "text/plain": [
       "CRS.from_epsg(32643)"
      ]
     },
     "execution_count": 34,
     "metadata": {},
     "output_type": "execute_result"
    }
   ],
   "source": [
    "b =rasterio.open(nir_band_path)\n",
    "print(b)\n",
    "b.crs"
   ]
  },
  {
   "cell_type": "code",
   "execution_count": 35,
   "id": "5e4cc870",
   "metadata": {},
   "outputs": [
    {
     "name": "stdout",
     "output_type": "stream",
     "text": [
      "(1518, 1181)\n"
     ]
    }
   ],
   "source": [
    "print(nir.shape)"
   ]
  },
  {
   "cell_type": "code",
   "execution_count": 36,
   "id": "05c05985",
   "metadata": {},
   "outputs": [
    {
     "name": "stdout",
     "output_type": "stream",
     "text": [
      "(1518, 1181)\n"
     ]
    }
   ],
   "source": [
    "print(red.shape)"
   ]
  },
  {
   "cell_type": "code",
   "execution_count": 37,
   "id": "c6141320",
   "metadata": {},
   "outputs": [
    {
     "data": {
      "text/plain": [
       "array([[0., 0., 0., ..., 0., 0., 0.],\n",
       "       [0., 0., 0., ..., 0., 0., 0.],\n",
       "       [0., 0., 0., ..., 0., 0., 0.],\n",
       "       ...,\n",
       "       [0., 0., 0., ..., 0., 0., 0.],\n",
       "       [0., 0., 0., ..., 0., 0., 0.],\n",
       "       [0., 0., 0., ..., 0., 0., 0.]], dtype=float32)"
      ]
     },
     "execution_count": 37,
     "metadata": {},
     "output_type": "execute_result"
    }
   ],
   "source": [
    "nir"
   ]
  },
  {
   "cell_type": "code",
   "execution_count": null,
   "id": "141f630d",
   "metadata": {},
   "outputs": [],
   "source": []
  },
  {
   "cell_type": "code",
   "execution_count": 38,
   "id": "69f70f8e",
   "metadata": {},
   "outputs": [
    {
     "name": "stderr",
     "output_type": "stream",
     "text": [
      "C:\\Users\\sudhi\\AppData\\Local\\Temp\\ipykernel_19484\\1592723588.py:1: RuntimeWarning: invalid value encountered in divide\n",
      "  ndvi = (nir- red)/(nir + red)\n"
     ]
    }
   ],
   "source": [
    "\n",
    "ndvi = (nir- red)/(nir + red)"
   ]
  },
  {
   "cell_type": "code",
   "execution_count": 39,
   "id": "b69e9a11",
   "metadata": {},
   "outputs": [
    {
     "data": {
      "text/plain": [
       "array([[nan, nan, nan, ..., nan, nan, nan],\n",
       "       [nan, nan, nan, ..., nan, nan, nan],\n",
       "       [nan, nan, nan, ..., nan, nan, nan],\n",
       "       ...,\n",
       "       [nan, nan, nan, ..., nan, nan, nan],\n",
       "       [nan, nan, nan, ..., nan, nan, nan],\n",
       "       [nan, nan, nan, ..., nan, nan, nan]], dtype=float32)"
      ]
     },
     "execution_count": 39,
     "metadata": {},
     "output_type": "execute_result"
    }
   ],
   "source": [
    "ndvi"
   ]
  },
  {
   "cell_type": "code",
   "execution_count": 44,
   "id": "b3a12cdf",
   "metadata": {},
   "outputs": [
    {
     "data": {
      "image/png": "[encoded data removed]",
      "text/plain": [
       "<Figure size 640x480 with 2 Axes>"
      ]
     },
     "metadata": {},
     "output_type": "display_data"
    }
   ],
   "source": [
    "import matplotlib.pyplot as plt\n",
    "\n",
    "#plt.figure(figsize=(8, 6))\n",
    "plt.imshow(ndvi, cmap='RdYlGn')\n",
    "plt.colorbar()\n",
    "plt.show()"
   ]
  },
  {
   "cell_type": "code",
   "execution_count": null,
   "id": "25b2df2d",
   "metadata": {},
   "outputs": [],
   "source": []
  }
 ],
 "metadata": {
  "kernelspec": {
   "display_name": "Python 3 (ipykernel)",
   "language": "python",
   "name": "python3"
  },
  "language_info": {
   "codemirror_mode": {
    "name": "ipython",
    "version": 3
   },
   "file_extension": ".py",
   "mimetype": "text/x-python",
   "name": "python",
   "nbconvert_exporter": "python",
   "pygments_lexer": "ipython3",
   "version": "3.11.5"
  }
 },
 "nbformat": 4,
 "nbformat_minor": 5
}
